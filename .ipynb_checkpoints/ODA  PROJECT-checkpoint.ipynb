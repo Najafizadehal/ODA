{
 "cells": [
  {
   "cell_type": "code",
   "execution_count": 3,
   "id": "5fddb5ce",
   "metadata": {},
   "outputs": [],
   "source": [
    "import pandas as pd\n",
    "import numpy as np"
   ]
  },
  {
   "cell_type": "code",
   "execution_count": 5,
   "id": "54ee4909",
   "metadata": {},
   "outputs": [],
   "source": [
    "df = pd.read_csv('/home/abdollatif/Desktop/ODA/athlete_events.csv')\n",
    "region_df = pd.read_csv('/home/abdollatif/Desktop/ODA/noc_regions.csv')"
   ]
  },
  {
   "cell_type": "code",
   "execution_count": null,
   "id": "58a051ae",
   "metadata": {},
   "outputs": [],
   "source": []
  }
 ],
 "metadata": {
  "kernelspec": {
   "display_name": "Python 3 (ipykernel)",
   "language": "python",
   "name": "python3"
  },
  "language_info": {
   "codemirror_mode": {
    "name": "ipython",
    "version": 3
   },
   "file_extension": ".py",
   "mimetype": "text/x-python",
   "name": "python",
   "nbconvert_exporter": "python",
   "pygments_lexer": "ipython3",
   "version": "3.10.6"
  }
 },
 "nbformat": 4,
 "nbformat_minor": 5
}
